{
  "nbformat": 4,
  "nbformat_minor": 0,
  "metadata": {
    "colab": {
      "name": "GLD Forecasting.ipynb",
      "provenance": [],
      "collapsed_sections": [],
      "authorship_tag": "ABX9TyMprs+Q/4i+cKonNutFuaZL",
      "include_colab_link": true
    },
    "kernelspec": {
      "name": "python3",
      "display_name": "Python 3"
    },
    "accelerator": "GPU"
  },
  "cells": [
    {
      "cell_type": "markdown",
      "metadata": {
        "id": "view-in-github",
        "colab_type": "text"
      },
      "source": [
        "<a href=\"https://colab.research.google.com/github/maxmatical/gld_forecasting/blob/master/GLD_Forecasting.ipynb\" target=\"_parent\"><img src=\"https://colab.research.google.com/assets/colab-badge.svg\" alt=\"Open In Colab\"/></a>"
      ]
    },
    {
      "cell_type": "code",
      "metadata": {
        "id": "qQZydELG7eGi",
        "colab_type": "code",
        "colab": {}
      },
      "source": [
        "%%capture\n",
        "!pip install git+https://github.com/fastai/fastai.git\n",
        "!pip install scikit-optimize\n",
        "!install pyro-ppl \n",
        "!pip install --upgrade ta"
      ],
      "execution_count": 0,
      "outputs": []
    },
    {
      "cell_type": "code",
      "metadata": {
        "id": "qaTtl6YZ9tLo",
        "colab_type": "code",
        "colab": {
          "base_uri": "https://localhost:8080/",
          "height": 121
        },
        "outputId": "423ead56-9b51-4a94-f3c0-8e68ba0e25bc"
      },
      "source": [
        "!git clone https://github.com/maxmatical/gld_forecasting.git\n"
      ],
      "execution_count": 2,
      "outputs": [
        {
          "output_type": "stream",
          "text": [
            "Cloning into 'gld_forecasting'...\n",
            "remote: Enumerating objects: 9, done.\u001b[K\n",
            "remote: Counting objects:  11% (1/9)\u001b[K\rremote: Counting objects:  22% (2/9)\u001b[K\rremote: Counting objects:  33% (3/9)\u001b[K\rremote: Counting objects:  44% (4/9)\u001b[K\rremote: Counting objects:  55% (5/9)\u001b[K\rremote: Counting objects:  66% (6/9)\u001b[K\rremote: Counting objects:  77% (7/9)\u001b[K\rremote: Counting objects:  88% (8/9)\u001b[K\rremote: Counting objects: 100% (9/9)\u001b[K\rremote: Counting objects: 100% (9/9), done.\u001b[K\n",
            "remote: Compressing objects:  14% (1/7)\u001b[K\rremote: Compressing objects:  28% (2/7)\u001b[K\rremote: Compressing objects:  42% (3/7)\u001b[K\rremote: Compressing objects:  57% (4/7)\u001b[K\rremote: Compressing objects:  71% (5/7)\u001b[K\rremote: Compressing objects:  85% (6/7)\u001b[K\rremote: Compressing objects: 100% (7/7)\u001b[K\rremote: Compressing objects: 100% (7/7), done.\u001b[K\n",
            "Unpacking objects:  11% (1/9)   \rUnpacking objects:  22% (2/9)   \rUnpacking objects:  33% (3/9)   \rremote: Total 9 (delta 0), reused 0 (delta 0), pack-reused 0\u001b[K\n",
            "Unpacking objects:  44% (4/9)   \rUnpacking objects:  55% (5/9)   \rUnpacking objects:  66% (6/9)   \rUnpacking objects:  77% (7/9)   \rUnpacking objects:  88% (8/9)   \rUnpacking objects: 100% (9/9)   \rUnpacking objects: 100% (9/9), done.\n"
          ],
          "name": "stdout"
        }
      ]
    },
    {
      "cell_type": "code",
      "metadata": {
        "id": "K7afAuHe926w",
        "colab_type": "code",
        "colab": {
          "base_uri": "https://localhost:8080/",
          "height": 52
        },
        "outputId": "163c32eb-9efb-4ea8-fed4-e2070515a75d"
      },
      "source": [
        "%cd /content/gld_forecasting\n",
        "!ls"
      ],
      "execution_count": 10,
      "outputs": [
        {
          "output_type": "stream",
          "text": [
            "/content/gld_forecasting\n",
            "GLD.csv  lookahead.py  radam.py  ranger.py  README.md\n"
          ],
          "name": "stdout"
        }
      ]
    },
    {
      "cell_type": "code",
      "metadata": {
        "id": "HqHK5R_477tB",
        "colab_type": "code",
        "colab": {
          "base_uri": "https://localhost:8080/",
          "height": 52
        },
        "outputId": "4f0bb95d-7bde-4cbf-f2cf-8fa035ab9a5d"
      },
      "source": [
        "# Set up environment and download course-v3\n",
        "# !curl -s https://course.fast.ai/setup/colab | bash"
      ],
      "execution_count": 4,
      "outputs": [
        {
          "output_type": "stream",
          "text": [
            "Updating fastai...\n",
            "Done.\n"
          ],
          "name": "stdout"
        }
      ]
    },
    {
      "cell_type": "code",
      "metadata": {
        "id": "-UzK3Bp58DsM",
        "colab_type": "code",
        "colab": {
          "base_uri": "https://localhost:8080/",
          "height": 697
        },
        "outputId": "f46e72a9-a911-43b0-a0ba-3803f9bf36cb"
      },
      "source": [
        "import numpy as np\n",
        "import pandas as pd\n",
        "from matplotlib import pyplot as plt\n",
        "import ta\n",
        "from fastai import *\n",
        "from fastai.tabular import * \n",
        "from fastai.utils.show_install import *\n",
        "from fastai.callbacks import *\n",
        "show_install()\n"
      ],
      "execution_count": 14,
      "outputs": [
        {
          "output_type": "stream",
          "text": [
            "\n",
            "\n",
            "```text\n",
            "=== Software === \n",
            "python        : 3.6.9\n",
            "fastai        : 1.0.61.dev0\n",
            "fastprogress  : 0.2.2\n",
            "torch         : 1.3.1\n",
            "nvidia driver : 418.67\n",
            "torch cuda    : 10.1.243 / is available\n",
            "torch cudnn   : 7603 / is enabled\n",
            "\n",
            "=== Hardware === \n",
            "nvidia gpus   : 1\n",
            "torch devices : 1\n",
            "  - gpu0      : 15079MB | Tesla T4\n",
            "\n",
            "=== Environment === \n",
            "platform      : Linux-4.14.137+-x86_64-with-Ubuntu-18.04-bionic\n",
            "distro        : #1 SMP Thu Aug 8 02:47:02 PDT 2019\n",
            "conda env     : Unknown\n",
            "python        : /usr/bin/python3\n",
            "sys.path      : \n",
            "/env/python\n",
            "/usr/lib/python36.zip\n",
            "/usr/lib/python3.6\n",
            "/usr/lib/python3.6/lib-dynload\n",
            "/usr/local/lib/python3.6/dist-packages\n",
            "/usr/lib/python3/dist-packages\n",
            "/usr/local/lib/python3.6/dist-packages/IPython/extensions\n",
            "/root/.ipython\n",
            "```\n",
            "\n",
            "Please make sure to include opening/closing ``` when you paste into forums/github to make the reports appear formatted as code sections.\n",
            "\n",
            "Optional package(s) to enhance the diagnostics can be installed with:\n",
            "pip install distro\n",
            "Once installed, re-run this utility to get the additional information\n"
          ],
          "name": "stdout"
        }
      ]
    },
    {
      "cell_type": "code",
      "metadata": {
        "id": "Lu1Oya6q8Pak",
        "colab_type": "code",
        "colab": {
          "base_uri": "https://localhost:8080/",
          "height": 206
        },
        "outputId": "036dc0e2-5377-4ac7-ecea-988412cd5f5b"
      },
      "source": [
        "df = pd.read_csv('./GLD.csv')\n",
        "df.head(5)"
      ],
      "execution_count": 29,
      "outputs": [
        {
          "output_type": "execute_result",
          "data": {
            "text/html": [
              "<div>\n",
              "<style scoped>\n",
              "    .dataframe tbody tr th:only-of-type {\n",
              "        vertical-align: middle;\n",
              "    }\n",
              "\n",
              "    .dataframe tbody tr th {\n",
              "        vertical-align: top;\n",
              "    }\n",
              "\n",
              "    .dataframe thead th {\n",
              "        text-align: right;\n",
              "    }\n",
              "</style>\n",
              "<table border=\"1\" class=\"dataframe\">\n",
              "  <thead>\n",
              "    <tr style=\"text-align: right;\">\n",
              "      <th></th>\n",
              "      <th>Date</th>\n",
              "      <th>Open</th>\n",
              "      <th>High</th>\n",
              "      <th>Low</th>\n",
              "      <th>Close</th>\n",
              "      <th>Adj Close</th>\n",
              "      <th>Volume</th>\n",
              "    </tr>\n",
              "  </thead>\n",
              "  <tbody>\n",
              "    <tr>\n",
              "      <th>0</th>\n",
              "      <td>2004-11-18</td>\n",
              "      <td>44.430000</td>\n",
              "      <td>44.490002</td>\n",
              "      <td>44.070000</td>\n",
              "      <td>44.380001</td>\n",
              "      <td>44.380001</td>\n",
              "      <td>5992000</td>\n",
              "    </tr>\n",
              "    <tr>\n",
              "      <th>1</th>\n",
              "      <td>2004-11-19</td>\n",
              "      <td>44.490002</td>\n",
              "      <td>44.919998</td>\n",
              "      <td>44.470001</td>\n",
              "      <td>44.779999</td>\n",
              "      <td>44.779999</td>\n",
              "      <td>11655300</td>\n",
              "    </tr>\n",
              "    <tr>\n",
              "      <th>2</th>\n",
              "      <td>2004-11-22</td>\n",
              "      <td>44.750000</td>\n",
              "      <td>44.970001</td>\n",
              "      <td>44.740002</td>\n",
              "      <td>44.950001</td>\n",
              "      <td>44.950001</td>\n",
              "      <td>11996000</td>\n",
              "    </tr>\n",
              "    <tr>\n",
              "      <th>3</th>\n",
              "      <td>2004-11-23</td>\n",
              "      <td>44.880001</td>\n",
              "      <td>44.919998</td>\n",
              "      <td>44.720001</td>\n",
              "      <td>44.750000</td>\n",
              "      <td>44.750000</td>\n",
              "      <td>3169200</td>\n",
              "    </tr>\n",
              "    <tr>\n",
              "      <th>4</th>\n",
              "      <td>2004-11-24</td>\n",
              "      <td>44.930000</td>\n",
              "      <td>45.049999</td>\n",
              "      <td>44.790001</td>\n",
              "      <td>45.049999</td>\n",
              "      <td>45.049999</td>\n",
              "      <td>6105100</td>\n",
              "    </tr>\n",
              "  </tbody>\n",
              "</table>\n",
              "</div>"
            ],
            "text/plain": [
              "         Date       Open       High        Low      Close  Adj Close    Volume\n",
              "0  2004-11-18  44.430000  44.490002  44.070000  44.380001  44.380001   5992000\n",
              "1  2004-11-19  44.490002  44.919998  44.470001  44.779999  44.779999  11655300\n",
              "2  2004-11-22  44.750000  44.970001  44.740002  44.950001  44.950001  11996000\n",
              "3  2004-11-23  44.880001  44.919998  44.720001  44.750000  44.750000   3169200\n",
              "4  2004-11-24  44.930000  45.049999  44.790001  45.049999  45.049999   6105100"
            ]
          },
          "metadata": {
            "tags": []
          },
          "execution_count": 29
        }
      ]
    },
    {
      "cell_type": "markdown",
      "metadata": {
        "id": "il_8eUI89FA-",
        "colab_type": "text"
      },
      "source": [
        "# Experiment 1: FE + MLP"
      ]
    },
    {
      "cell_type": "code",
      "metadata": {
        "id": "O83Yrje78rkM",
        "colab_type": "code",
        "colab": {
          "base_uri": "https://localhost:8080/",
          "height": 86
        },
        "outputId": "b40b2f45-1c58-46f2-9d95-81867e10b147"
      },
      "source": [
        "# adding technical indicators\n",
        "df = ta.add_all_ta_features(df, open=\"Open\", high=\"High\", low=\"Low\", close=\"Close\", volume=\"Volume\")"
      ],
      "execution_count": 30,
      "outputs": [
        {
          "output_type": "stream",
          "text": [
            "/usr/local/lib/python3.6/dist-packages/ta/trend.py:543: RuntimeWarning: invalid value encountered in double_scalars\n",
            "  dip[i] = 100 * (self._dip[i]/self._trs[i])\n",
            "/usr/local/lib/python3.6/dist-packages/ta/trend.py:547: RuntimeWarning: invalid value encountered in double_scalars\n",
            "  din[i] = 100 * (self._din[i]/self._trs[i])\n"
          ],
          "name": "stderr"
        }
      ]
    },
    {
      "cell_type": "code",
      "metadata": {
        "id": "df06VdKH8rDV",
        "colab_type": "code",
        "colab": {
          "base_uri": "https://localhost:8080/",
          "height": 424
        },
        "outputId": "8fc6a6b7-398f-4551-ca66-44f296afbbb2"
      },
      "source": [
        "df.head(5).T"
      ],
      "execution_count": 31,
      "outputs": [
        {
          "output_type": "execute_result",
          "data": {
            "text/html": [
              "<div>\n",
              "<style scoped>\n",
              "    .dataframe tbody tr th:only-of-type {\n",
              "        vertical-align: middle;\n",
              "    }\n",
              "\n",
              "    .dataframe tbody tr th {\n",
              "        vertical-align: top;\n",
              "    }\n",
              "\n",
              "    .dataframe thead th {\n",
              "        text-align: right;\n",
              "    }\n",
              "</style>\n",
              "<table border=\"1\" class=\"dataframe\">\n",
              "  <thead>\n",
              "    <tr style=\"text-align: right;\">\n",
              "      <th></th>\n",
              "      <th>0</th>\n",
              "      <th>1</th>\n",
              "      <th>2</th>\n",
              "      <th>3</th>\n",
              "      <th>4</th>\n",
              "    </tr>\n",
              "  </thead>\n",
              "  <tbody>\n",
              "    <tr>\n",
              "      <th>Date</th>\n",
              "      <td>2004-11-18</td>\n",
              "      <td>2004-11-19</td>\n",
              "      <td>2004-11-22</td>\n",
              "      <td>2004-11-23</td>\n",
              "      <td>2004-11-24</td>\n",
              "    </tr>\n",
              "    <tr>\n",
              "      <th>Open</th>\n",
              "      <td>44.43</td>\n",
              "      <td>44.49</td>\n",
              "      <td>44.75</td>\n",
              "      <td>44.88</td>\n",
              "      <td>44.93</td>\n",
              "    </tr>\n",
              "    <tr>\n",
              "      <th>High</th>\n",
              "      <td>44.49</td>\n",
              "      <td>44.92</td>\n",
              "      <td>44.97</td>\n",
              "      <td>44.92</td>\n",
              "      <td>45.05</td>\n",
              "    </tr>\n",
              "    <tr>\n",
              "      <th>Low</th>\n",
              "      <td>44.07</td>\n",
              "      <td>44.47</td>\n",
              "      <td>44.74</td>\n",
              "      <td>44.72</td>\n",
              "      <td>44.79</td>\n",
              "    </tr>\n",
              "    <tr>\n",
              "      <th>Close</th>\n",
              "      <td>44.38</td>\n",
              "      <td>44.78</td>\n",
              "      <td>44.95</td>\n",
              "      <td>44.75</td>\n",
              "      <td>45.05</td>\n",
              "    </tr>\n",
              "    <tr>\n",
              "      <th>...</th>\n",
              "      <td>...</td>\n",
              "      <td>...</td>\n",
              "      <td>...</td>\n",
              "      <td>...</td>\n",
              "      <td>...</td>\n",
              "    </tr>\n",
              "    <tr>\n",
              "      <th>momentum_kama</th>\n",
              "      <td>NaN</td>\n",
              "      <td>NaN</td>\n",
              "      <td>NaN</td>\n",
              "      <td>NaN</td>\n",
              "      <td>NaN</td>\n",
              "    </tr>\n",
              "    <tr>\n",
              "      <th>momentum_roc</th>\n",
              "      <td>NaN</td>\n",
              "      <td>NaN</td>\n",
              "      <td>NaN</td>\n",
              "      <td>NaN</td>\n",
              "      <td>NaN</td>\n",
              "    </tr>\n",
              "    <tr>\n",
              "      <th>others_dr</th>\n",
              "      <td>-59.5181</td>\n",
              "      <td>0.901302</td>\n",
              "      <td>0.379638</td>\n",
              "      <td>-0.444941</td>\n",
              "      <td>0.670389</td>\n",
              "    </tr>\n",
              "    <tr>\n",
              "      <th>others_dlr</th>\n",
              "      <td>NaN</td>\n",
              "      <td>0.897265</td>\n",
              "      <td>0.378919</td>\n",
              "      <td>-0.445934</td>\n",
              "      <td>0.668152</td>\n",
              "    </tr>\n",
              "    <tr>\n",
              "      <th>others_cr</th>\n",
              "      <td>0</td>\n",
              "      <td>0.901302</td>\n",
              "      <td>1.28436</td>\n",
              "      <td>0.833707</td>\n",
              "      <td>1.50968</td>\n",
              "    </tr>\n",
              "  </tbody>\n",
              "</table>\n",
              "<p>74 rows × 5 columns</p>\n",
              "</div>"
            ],
            "text/plain": [
              "                        0           1           2           3           4\n",
              "Date           2004-11-18  2004-11-19  2004-11-22  2004-11-23  2004-11-24\n",
              "Open                44.43       44.49       44.75       44.88       44.93\n",
              "High                44.49       44.92       44.97       44.92       45.05\n",
              "Low                 44.07       44.47       44.74       44.72       44.79\n",
              "Close               44.38       44.78       44.95       44.75       45.05\n",
              "...                   ...         ...         ...         ...         ...\n",
              "momentum_kama         NaN         NaN         NaN         NaN         NaN\n",
              "momentum_roc          NaN         NaN         NaN         NaN         NaN\n",
              "others_dr        -59.5181    0.901302    0.379638   -0.444941    0.670389\n",
              "others_dlr            NaN    0.897265    0.378919   -0.445934    0.668152\n",
              "others_cr               0    0.901302     1.28436    0.833707     1.50968\n",
              "\n",
              "[74 rows x 5 columns]"
            ]
          },
          "metadata": {
            "tags": []
          },
          "execution_count": 31
        }
      ]
    },
    {
      "cell_type": "code",
      "metadata": {
        "id": "rziGi9cl8kpP",
        "colab_type": "code",
        "colab": {
          "base_uri": "https://localhost:8080/",
          "height": 282
        },
        "outputId": "2a2f580a-ee25-4b65-f126-cac1e47596de"
      },
      "source": [
        "plt.figure(); df['Close'].plot(); plt.legend(loc='best')"
      ],
      "execution_count": 32,
      "outputs": [
        {
          "output_type": "execute_result",
          "data": {
            "text/plain": [
              "<matplotlib.legend.Legend at 0x7f84922876d8>"
            ]
          },
          "metadata": {
            "tags": []
          },
          "execution_count": 32
        },
        {
          "output_type": "display_data",
          "data": {
            "image/png": "[encoded data removed]",
            "text/plain": [
              "<Figure size 432x288 with 1 Axes>"
            ]
          },
          "metadata": {
            "tags": []
          }
        }
      ]
    },
    {
      "cell_type": "code",
      "metadata": {
        "id": "zcz-j5bd_hul",
        "colab_type": "code",
        "colab": {}
      },
      "source": [
        "# adding lag values\n",
        "def add_lag(df, cols, lag):\n",
        "    \"\"\"\n",
        "    add lag values up to lag\n",
        "    \"\"\"\n",
        "    for c in cols:\n",
        "        for i in range(1,lag+1): # 1 to lag value\n",
        "            df[f'{c}_lag_{i}'] = df[c].shift(i)\n",
        "\n",
        "    return df"
      ],
      "execution_count": 0,
      "outputs": []
    },
    {
      "cell_type": "code",
      "metadata": {
        "id": "WNZtQQhKASde",
        "colab_type": "code",
        "colab": {
          "base_uri": "https://localhost:8080/",
          "height": 424
        },
        "outputId": "f107d6e2-364f-4f64-c329-491af8af8892"
      },
      "source": [
        "df = add_lag(df, ['Open', 'High', 'Low', 'Close', 'Volume'], 7)\n",
        "df.head(5).T"
      ],
      "execution_count": 34,
      "outputs": [
        {
          "output_type": "execute_result",
          "data": {
            "text/html": [
              "<div>\n",
              "<style scoped>\n",
              "    .dataframe tbody tr th:only-of-type {\n",
              "        vertical-align: middle;\n",
              "    }\n",
              "\n",
              "    .dataframe tbody tr th {\n",
              "        vertical-align: top;\n",
              "    }\n",
              "\n",
              "    .dataframe thead th {\n",
              "        text-align: right;\n",
              "    }\n",
              "</style>\n",
              "<table border=\"1\" class=\"dataframe\">\n",
              "  <thead>\n",
              "    <tr style=\"text-align: right;\">\n",
              "      <th></th>\n",
              "      <th>0</th>\n",
              "      <th>1</th>\n",
              "      <th>2</th>\n",
              "      <th>3</th>\n",
              "      <th>4</th>\n",
              "    </tr>\n",
              "  </thead>\n",
              "  <tbody>\n",
              "    <tr>\n",
              "      <th>Date</th>\n",
              "      <td>2004-11-18</td>\n",
              "      <td>2004-11-19</td>\n",
              "      <td>2004-11-22</td>\n",
              "      <td>2004-11-23</td>\n",
              "      <td>2004-11-24</td>\n",
              "    </tr>\n",
              "    <tr>\n",
              "      <th>Open</th>\n",
              "      <td>44.43</td>\n",
              "      <td>44.49</td>\n",
              "      <td>44.75</td>\n",
              "      <td>44.88</td>\n",
              "      <td>44.93</td>\n",
              "    </tr>\n",
              "    <tr>\n",
              "      <th>High</th>\n",
              "      <td>44.49</td>\n",
              "      <td>44.92</td>\n",
              "      <td>44.97</td>\n",
              "      <td>44.92</td>\n",
              "      <td>45.05</td>\n",
              "    </tr>\n",
              "    <tr>\n",
              "      <th>Low</th>\n",
              "      <td>44.07</td>\n",
              "      <td>44.47</td>\n",
              "      <td>44.74</td>\n",
              "      <td>44.72</td>\n",
              "      <td>44.79</td>\n",
              "    </tr>\n",
              "    <tr>\n",
              "      <th>Close</th>\n",
              "      <td>44.38</td>\n",
              "      <td>44.78</td>\n",
              "      <td>44.95</td>\n",
              "      <td>44.75</td>\n",
              "      <td>45.05</td>\n",
              "    </tr>\n",
              "    <tr>\n",
              "      <th>...</th>\n",
              "      <td>...</td>\n",
              "      <td>...</td>\n",
              "      <td>...</td>\n",
              "      <td>...</td>\n",
              "      <td>...</td>\n",
              "    </tr>\n",
              "    <tr>\n",
              "      <th>Volume_lag_3</th>\n",
              "      <td>NaN</td>\n",
              "      <td>NaN</td>\n",
              "      <td>NaN</td>\n",
              "      <td>5.992e+06</td>\n",
              "      <td>1.16553e+07</td>\n",
              "    </tr>\n",
              "    <tr>\n",
              "      <th>Volume_lag_4</th>\n",
              "      <td>NaN</td>\n",
              "      <td>NaN</td>\n",
              "      <td>NaN</td>\n",
              "      <td>NaN</td>\n",
              "      <td>5.992e+06</td>\n",
              "    </tr>\n",
              "    <tr>\n",
              "      <th>Volume_lag_5</th>\n",
              "      <td>NaN</td>\n",
              "      <td>NaN</td>\n",
              "      <td>NaN</td>\n",
              "      <td>NaN</td>\n",
              "      <td>NaN</td>\n",
              "    </tr>\n",
              "    <tr>\n",
              "      <th>Volume_lag_6</th>\n",
              "      <td>NaN</td>\n",
              "      <td>NaN</td>\n",
              "      <td>NaN</td>\n",
              "      <td>NaN</td>\n",
              "      <td>NaN</td>\n",
              "    </tr>\n",
              "    <tr>\n",
              "      <th>Volume_lag_7</th>\n",
              "      <td>NaN</td>\n",
              "      <td>NaN</td>\n",
              "      <td>NaN</td>\n",
              "      <td>NaN</td>\n",
              "      <td>NaN</td>\n",
              "    </tr>\n",
              "  </tbody>\n",
              "</table>\n",
              "<p>109 rows × 5 columns</p>\n",
              "</div>"
            ],
            "text/plain": [
              "                       0           1           2           3            4\n",
              "Date          2004-11-18  2004-11-19  2004-11-22  2004-11-23   2004-11-24\n",
              "Open               44.43       44.49       44.75       44.88        44.93\n",
              "High               44.49       44.92       44.97       44.92        45.05\n",
              "Low                44.07       44.47       44.74       44.72        44.79\n",
              "Close              44.38       44.78       44.95       44.75        45.05\n",
              "...                  ...         ...         ...         ...          ...\n",
              "Volume_lag_3         NaN         NaN         NaN   5.992e+06  1.16553e+07\n",
              "Volume_lag_4         NaN         NaN         NaN         NaN    5.992e+06\n",
              "Volume_lag_5         NaN         NaN         NaN         NaN          NaN\n",
              "Volume_lag_6         NaN         NaN         NaN         NaN          NaN\n",
              "Volume_lag_7         NaN         NaN         NaN         NaN          NaN\n",
              "\n",
              "[109 rows x 5 columns]"
            ]
          },
          "metadata": {
            "tags": []
          },
          "execution_count": 34
        }
      ]
    },
    {
      "cell_type": "code",
      "metadata": {
        "id": "jmzkh_PUAT-M",
        "colab_type": "code",
        "colab": {}
      },
      "source": [
        ""
      ],
      "execution_count": 0,
      "outputs": []
    }
  ]
}